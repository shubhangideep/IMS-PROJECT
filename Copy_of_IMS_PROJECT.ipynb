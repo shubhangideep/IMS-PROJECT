{
  "nbformat": 4,
  "nbformat_minor": 0,
  "metadata": {
    "colab": {
      "name": "Copy of IMS PROJECT.ipynb",
      "provenance": [],
      "collapsed_sections": []
    },
    "kernelspec": {
      "name": "python3",
      "display_name": "Python 3"
    },
    "language_info": {
      "name": "python"
    }
  },
  "cells": [
    {
      "cell_type": "code",
      "metadata": {
        "id": "3pZbFFn7DD04"
      },
      "source": [
        "inventory = {\n",
        "    101: {\"Product name\": \"Nivia Face wash\" , \"price\" : 80 , \"In stock items\" : 30 },\n",
        "    102: {\"Product name\": \"Loreal Shampoo\", \"Price\": 500, \"In stock items\": 100},\n",
        "    103: {\"Product name\": \"Colgate\", \"Price\": 35, \"In stock items\": 90}, \n",
        "    104: {\"Product name\": \"pen\", \"Price\": 25, \"In stock items\": 100}, \n",
        "    105: {\"Product name\": \"chocholate\", \"Price\": 30, \"In stock items\": 80}, \n",
        "    106: {\"Product name\": \"Bourbon Biscuits\", \"Price\": 20, \"In stock items\": 80}, \n",
        "    107: {\"Product name\": \"Oreo Biscuits\", \"Price\": 30, \"In stock items\": 100}, \n",
        "    108: {\"Product name\": \"Good Day Biscuits\", \"Price\": 20, \"In stock items\": 70}, \n",
        "    109: {\"Product name\": \"Oatmeal Biscuits\", \"Price\": 50, \"In stock items\": 90}, \n",
        "    110: {\"Product name\": \"Raisins Packet\", \"Price\": 200, \"In stock items\": 500}, \n",
        "    111: {\"Product name\": \"Mixed Fruit jam\", \"Price\": 135, \"In stock items\": 90}, \n",
        "    112: {\"Product name\": \"Mango Jam\", \"Price\": 130, \"In stock items\": 100}, \n",
        "    113: {\"Product name\": \"Dettol\", \"Price\": 160, \"In stock items\": 50},\n",
        "    114: {\"Product name\": \"Maggi Noodles\", \"Price\": 40, \"In stock items\": 500}, \n",
        "    115: {\"Product name\": \"Schezwan Chutney\", \"Price\": 15, \"In stock items\": 100}, \n",
        "    116: {\"Product name\": \"Chings Noodles\", \"Price\": 20, \"In stock items\": 70}, \n",
        "    117: {\"Product name\": \"Saffola Oats\", \"Price\": 120, \"In stock items\": 90}, \n",
        "    118: {\"Product name\": \"Saffola Oodles\", \"Price\": 50, \"In stock items\": 50}, \n",
        "    119: {\"Product name\": \"Kelloggs Oats\", \"Price\": 75, \"In stock items\": 90}, \n",
        "    120: {\"Product name\": \"Kelloggs Muesli\", \"Price\": 200, \"In stock items\": 70}, \n",
        "    121: {\"Product name\": \"Peanut Butter\", \"Price\": 160, \"In stock items\": 80}, \n",
        "    122: {\"Product name\": \"Dry Fruits\", \"Price\": 500, \"In stock items\": 120}, \n",
        "    123: {\"Product name\": \"Henz Ketchup\", \"Price\": 30, \"In stock items\": 100}, \n",
        "    124: {\"Product name\": \"Kissan Ketchup\", \"Price\": 15, \"In stock items\": 70}, \n",
        "    125: {\"Product name\": \"Maggi Ketchup\", \"Price\": 30, \"In stock items\": 90}, \n",
        "    126: {\"Product name\": \"Toothbrush\", \"Price\": 20, \"In stock items\": 100}, \n",
        "    127: {\"Product name\": \"Toothpaste\", \"Price\": 90, \"In stock items\": 90}, \n",
        "    128: {\"Product name\": \"Mortein refil\", \"Price\": 100, \"In stock items\": 100},\n",
        "    129: {\"Product name\": \"Hit Spray \", \"Price\": 100, \"In stock items\": 50}, \n",
        "    130: {\"Product name\": \"Coffee\", \"Price\": 40, \"In stock items\": 20}\n",
        "    \n",
        "    \n",
        "}"
      ],
      "execution_count": null,
      "outputs": []
    },
    {
      "cell_type": "code",
      "metadata": {
        "id": "SXC62wgJDKnB"
      },
      "source": [
        "ui_product = int(input(\"Enter product ID:\"))\n",
        "ui_quantity = int(input(\"Enter Quantity:\"))\n",
        "\n",
        "product = inventory.get(ui_product)\n",
        "\n",
        "if product:\n",
        "  print('product name: ',product.get('Product name'))\n",
        "  print('price per unit: ', product.get('Price'))\n",
        "  print('total amount : ', int(ui_quantity)*(product.get('Price')))\n",
        "  product['In stock items']-=ui_quantity\n",
        "else:\n",
        " print('product not found')"
      ],
      "execution_count": null,
      "outputs": []
    },
    {
      "cell_type": "code",
      "metadata": {
        "id": "XfInWWO4DQVi"
      },
      "source": [
        "import json\n",
        "\n",
        "file = open('record.json', 'w')\n",
        "json.dump(inventory, file )"
      ],
      "execution_count": null,
      "outputs": []
    },
    {
      "cell_type": "markdown",
      "metadata": {
        "id": "sdILBqeTETr1"
      },
      "source": [
        "# New Section"
      ]
    }
  ]
}